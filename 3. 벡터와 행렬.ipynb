{
 "cells": [
  {
   "cell_type": "markdown",
   "id": "cab499b5-0d09-4a4c-8aaf-4c58dade7a50",
   "metadata": {},
   "source": [
    "# 3.1 벡터 - 파이썬 실습"
   ]
  },
  {
   "cell_type": "code",
   "execution_count": 3,
   "id": "0997254c-d7a5-4d32-ae15-57482aef45db",
   "metadata": {},
   "outputs": [
    {
     "name": "stdout",
     "output_type": "stream",
     "text": [
      "[5, 7, 9]\n"
     ]
    }
   ],
   "source": [
    "### 벡터의 덧셈\n",
    "u = [1, 2, 3]\n",
    "v = [4, 5, 6]\n",
    "\n",
    "n = len(u)\n",
    "w = []\n",
    "\n",
    "for i in range(0, n):\n",
    "    val = u[i] + v[i]\n",
    "    w.append(val)\n",
    "    \n",
    "print(w)"
   ]
  },
  {
   "cell_type": "code",
   "execution_count": 4,
   "id": "9eb660ef-c6e6-458c-a9be-a40d0ef36b7d",
   "metadata": {},
   "outputs": [
    {
     "data": {
      "text/plain": [
       "[5, 7, 9]"
      ]
     },
     "execution_count": 4,
     "metadata": {},
     "output_type": "execute_result"
    }
   ],
   "source": [
    "### 벡터의 덧셈 함수\n",
    "def v_add(u, v):\n",
    "    \"\"\"벡터의 덧셈\"\"\"\n",
    "    n = len(u)    \n",
    "    w = []\n",
    "    \n",
    "    for i in range(0, n):\n",
    "        temp = u[i] + v[i]\n",
    "        w.append(temp)\n",
    "        \n",
    "    return(w)\n",
    "\n",
    "v_add([1,2,3], [4,5,6])"
   ]
  },
  {
   "cell_type": "code",
   "execution_count": 5,
   "id": "2bca90b2-2ca7-4d85-b56d-c09bcb496275",
   "metadata": {},
   "outputs": [
    {
     "name": "stdout",
     "output_type": "stream",
     "text": [
      "[5, -2, 2]\n"
     ]
    }
   ],
   "source": [
    "### 벡터의 뺄셈\n",
    "u = [7, 3, 9]\n",
    "v = [2, 5, 7]\n",
    "\n",
    "n = len(u)\n",
    "w = []\n",
    "\n",
    "for i in range(0, n):\n",
    "    val = u[i] - v[i]\n",
    "    w.append(val)\n",
    "    \n",
    "print(w)"
   ]
  },
  {
   "cell_type": "code",
   "execution_count": 6,
   "id": "c3fe7e3c-74ce-4009-911e-c946ce3ddd4d",
   "metadata": {},
   "outputs": [
    {
     "data": {
      "text/plain": [
       "[5, -2, 2]"
      ]
     },
     "execution_count": 6,
     "metadata": {},
     "output_type": "execute_result"
    }
   ],
   "source": [
    "### 벡터의 뺄셈 함수\n",
    "def v_subtract(u, v):\n",
    "    n = len(u)\n",
    "    w = []\n",
    "    \n",
    "    for i in range(0, n):\n",
    "        temp = u[i] - v[i]\n",
    "        w.append(temp)\n",
    "        \n",
    "    return w\n",
    "\n",
    "v_subtract([7,3,9], [2,5,7])"
   ]
  },
  {
   "cell_type": "code",
   "execution_count": 10,
   "id": "5938c0d4-d605-48f4-8746-9d418fa1ae57",
   "metadata": {},
   "outputs": [
    {
     "name": "stdout",
     "output_type": "stream",
     "text": [
      "[6, 12, 9]\n"
     ]
    }
   ],
   "source": [
    "### 벡터의 스칼라곱\n",
    "u = [2, 4, 3]\n",
    "a = 3\n",
    "\n",
    "n = len(u)\n",
    "w = []\n",
    "\n",
    "for i in range(0, n):\n",
    "    val = u[i] * a\n",
    "    w.append(val)\n",
    "    \n",
    "print(w)"
   ]
  },
  {
   "cell_type": "code",
   "execution_count": 11,
   "id": "e6c90eb4-d849-4d20-b691-0f1983cc464b",
   "metadata": {},
   "outputs": [
    {
     "data": {
      "text/plain": [
       "[3, 6, 9]"
      ]
     },
     "execution_count": 11,
     "metadata": {},
     "output_type": "execute_result"
    }
   ],
   "source": [
    "### 벡터의 스칼라곱 함수\n",
    "def v_sca_mul(a, u):\n",
    "    n = len(u)\n",
    "    w = []\n",
    "    \n",
    "    for i in range(0, n):\n",
    "        temp = a * u[i]\n",
    "        w.append(temp)\n",
    "        \n",
    "    return w\n",
    "\n",
    "v_sca_mul(3, [1,2,3])"
   ]
  },
  {
   "cell_type": "code",
   "execution_count": 12,
   "id": "9e3229c3-c55c-4aa2-b2c5-32303d64194d",
   "metadata": {},
   "outputs": [
    {
     "name": "stdout",
     "output_type": "stream",
     "text": [
      "[7, 6, 8]\n"
     ]
    }
   ],
   "source": [
    "### 벡터의 원소 곱\n",
    "u = [1, 2, 4]\n",
    "v = [7, 3, 2]\n",
    "\n",
    "n = len(u)\n",
    "w = []\n",
    "\n",
    "for i in range(0, n):\n",
    "    val = u[i] * v[i]\n",
    "    w.append(val)\n",
    "    \n",
    "print(w)"
   ]
  },
  {
   "cell_type": "code",
   "execution_count": 13,
   "id": "89e9a9ed-0aa9-4df4-ade1-994fb32e0f61",
   "metadata": {},
   "outputs": [
    {
     "data": {
      "text/plain": [
       "[10, 6, 28]"
      ]
     },
     "execution_count": 13,
     "metadata": {},
     "output_type": "execute_result"
    }
   ],
   "source": [
    "### 벡터의 원소 곱 함수\n",
    "def v_mul(u, v):\n",
    "    n = len(u)\n",
    "    w = []\n",
    "    \n",
    "    for i in range(0, n):\n",
    "        temp = u[i] * v[i]\n",
    "        w.append(temp)\n",
    "    \n",
    "    return w\n",
    "\n",
    "v_mul([2,1,4], [5,6,7])"
   ]
  },
  {
   "cell_type": "markdown",
   "id": "41074a6e-64ff-4970-b8cd-10f22af0ab39",
   "metadata": {},
   "source": [
    "# 3.2 벡터- 넘파이 실습"
   ]
  },
  {
   "cell_type": "code",
   "execution_count": 14,
   "id": "bad8db05-c244-4af1-a4d0-ca1d9f104767",
   "metadata": {},
   "outputs": [],
   "source": [
    "import numpy as np"
   ]
  },
  {
   "cell_type": "code",
   "execution_count": 17,
   "id": "30b9cdb4-0e94-4911-be71-622ba0316a46",
   "metadata": {},
   "outputs": [
    {
     "name": "stdout",
     "output_type": "stream",
     "text": [
      "[5 7 9]\n"
     ]
    }
   ],
   "source": [
    "### 벡터의 덧넴\n",
    "u = np.array([1,2,3])\n",
    "v = np.array([4,5,6])\n",
    "w = u + v\n",
    "\n",
    "print(w)"
   ]
  },
  {
   "cell_type": "code",
   "execution_count": 18,
   "id": "6d606424-3248-4ec6-981e-fe9f3ca84631",
   "metadata": {},
   "outputs": [
    {
     "name": "stdout",
     "output_type": "stream",
     "text": [
      "[-3 -3 -3]\n"
     ]
    }
   ],
   "source": [
    "### 백터의 뺄셈\n",
    "w = u - v\n",
    "\n",
    "print(w)"
   ]
  },
  {
   "cell_type": "code",
   "execution_count": 19,
   "id": "152f309d-7322-4f2b-9614-aa020363e8fe",
   "metadata": {},
   "outputs": [
    {
     "name": "stdout",
     "output_type": "stream",
     "text": [
      "[3 6 9]\n"
     ]
    }
   ],
   "source": [
    "### 벡터의 스칼라 곱\n",
    "a = 3\n",
    "w = a * u\n",
    "\n",
    "print(w)"
   ]
  },
  {
   "cell_type": "code",
   "execution_count": 20,
   "id": "44f7cebb-3e4f-4d33-a7bd-c98386e45dc2",
   "metadata": {},
   "outputs": [
    {
     "name": "stdout",
     "output_type": "stream",
     "text": [
      "[ 4 10 18]\n"
     ]
    }
   ],
   "source": [
    "### 벡터의 원소 곱\n",
    "w = u * v\n",
    "\n",
    "print(w)"
   ]
  },
  {
   "cell_type": "markdown",
   "id": "62faa62a-3006-4f88-9bb3-963587153e16",
   "metadata": {},
   "source": [
    "# 3.3 행렬 - 파이썬 실습"
   ]
  },
  {
   "cell_type": "code",
   "execution_count": 32,
   "id": "6492b23e-47b3-4f90-8f87-b0eb4315d1f9",
   "metadata": {},
   "outputs": [
    {
     "name": "stdout",
     "output_type": "stream",
     "text": [
      "[[5, 13], [7, 10], [6, 12]]\n"
     ]
    }
   ],
   "source": [
    "### 행렬의 덧셈\n",
    "A = [[2,7], [3,4], [1,6]]\n",
    "B = [[3,6], [4,6], [5,6]]\n",
    "\n",
    "n = len(A)\n",
    "p = len(A[0])\n",
    "C = []\n",
    "\n",
    "for i in range(0, n):\n",
    "    row = []\n",
    "    for j in range(0, p):\n",
    "        temp = A[i][j] + B[i][j]\n",
    "        row.append(temp)\n",
    "    C.append(row)\n",
    "    \n",
    "print(C)"
   ]
  },
  {
   "cell_type": "code",
   "execution_count": 39,
   "id": "1f3a96b8-5427-42c5-aaa7-09d3f3bf8eac",
   "metadata": {},
   "outputs": [
    {
     "data": {
      "text/plain": [
       "[[6, 8], [10, 12]]"
      ]
     },
     "execution_count": 39,
     "metadata": {},
     "output_type": "execute_result"
    }
   ],
   "source": [
    "### 행렬의 덧셈 함수 생성\n",
    "def add(A, B):\n",
    "    n = len(A)\n",
    "    m = len(A[0])\n",
    "    C = []\n",
    "    \n",
    "    for i in range(0, n):\n",
    "        row = []\n",
    "        for j in range(0, m):\n",
    "            temp = A[i][j] + B[i][j]\n",
    "            row.append(temp)\n",
    "        C.append(row)\n",
    "        \n",
    "    return C\n",
    "            \n",
    "add([[1,2],[3,4]], [[5,6],[7,8]])        "
   ]
  },
  {
   "cell_type": "code",
   "execution_count": 31,
   "id": "321aef1d-35a3-4475-a452-079478caf5f3",
   "metadata": {},
   "outputs": [
    {
     "name": "stdout",
     "output_type": "stream",
     "text": [
      "[[-1, 1], [-1, -2], [-4, 0]]\n"
     ]
    }
   ],
   "source": [
    "### 행렬의 뺄셈\n",
    "A = [[2,7], [3,4], [1,6]]\n",
    "B = [[3,6], [4,6], [5,6]]\n",
    "\n",
    "n = len(A)\n",
    "m = len(A[0])\n",
    "C = [] # result\n",
    "\n",
    "for i in range(0, n):\n",
    "    row = []\n",
    "    for j in range(0, m):\n",
    "        temp = A[i][j] - B[i][j]\n",
    "        row.append(temp)\n",
    "    C.append(row)\n",
    "        \n",
    "print(C)\n"
   ]
  },
  {
   "cell_type": "code",
   "execution_count": 41,
   "id": "b0d9616c-98ae-4fa6-be04-4db5cc83ac8f",
   "metadata": {},
   "outputs": [
    {
     "data": {
      "text/plain": [
       "[[-4, -4], [-4, -4]]"
      ]
     },
     "execution_count": 41,
     "metadata": {},
     "output_type": "execute_result"
    }
   ],
   "source": [
    "### 행렬의 뺄셈 함수 생성\n",
    "def sub(A, B):\n",
    "    n = len(A)\n",
    "    m = len(A[0])\n",
    "    C = []\n",
    "    \n",
    "    for i in range(0, n):\n",
    "        row = []\n",
    "        for j in range(0, m):\n",
    "            temp = A[i][j] - B[i][j]\n",
    "            row.append(temp)\n",
    "        C.append(row)\n",
    "    return C\n",
    "\n",
    "sub([[1,2],[3,4]], [[5,6],[7,8]])   "
   ]
  },
  {
   "cell_type": "code",
   "execution_count": 42,
   "id": "2511b407-2b5c-4fed-82c6-b1c59cb3c104",
   "metadata": {},
   "outputs": [
    {
     "name": "stdout",
     "output_type": "stream",
     "text": [
      "[[6, 21], [9, 12], [3, 18]]\n"
     ]
    }
   ],
   "source": [
    "### 행렬의 스칼라곱\n",
    "A = [[2,7], [3,4], [1,6]]\n",
    "b = 3\n",
    "\n",
    "n = len(A)\n",
    "m = len(A[0])\n",
    "C = []\n",
    "\n",
    "for i in range(0, n):\n",
    "    row = []\n",
    "    for j in range(0, m):\n",
    "        temp = A[i][j] * b\n",
    "        row.append(temp)\n",
    "    C.append(row)\n",
    "    \n",
    "print(C)\n"
   ]
  },
  {
   "cell_type": "code",
   "execution_count": 43,
   "id": "e106fb17-b47d-4ae4-acb6-21077c29bc75",
   "metadata": {},
   "outputs": [
    {
     "data": {
      "text/plain": [
       "[[3, 6], [15, 18]]"
      ]
     },
     "execution_count": 43,
     "metadata": {},
     "output_type": "execute_result"
    }
   ],
   "source": [
    "### 행렬의 스칼라곱 함수 생성\n",
    "def times(A, b):\n",
    "    n = len(A)\n",
    "    m = len(A[0])\n",
    "    C = []\n",
    "    \n",
    "    for i in range(0, n):\n",
    "        row = []\n",
    "        for j in range(0, m):\n",
    "            temp = A[i][j] * b\n",
    "            row.append(temp)\n",
    "        C.append(row)\n",
    "        \n",
    "    return C\n",
    "\n",
    "times([[1,2],[5,6]], 3)"
   ]
  },
  {
   "cell_type": "code",
   "execution_count": 44,
   "id": "7d852325-9925-41ce-a30d-3ae7b606ae8f",
   "metadata": {},
   "outputs": [
    {
     "name": "stdout",
     "output_type": "stream",
     "text": [
      "[[6, 24], [12, 84], [18, 24]]\n"
     ]
    }
   ],
   "source": [
    "### 행렬의 곱\n",
    "A = [[1,2],[2,7],[3,2]] # n by m\n",
    "B = [[3,2,1],[2,4,6]] # m by l\n",
    "\n",
    "n = len(A)\n",
    "m = len(A[0])\n",
    "l = len(B[0])\n",
    "C = [] # result\n",
    "\n",
    "for i in range(0, n):\n",
    "    row = []\n",
    "    for j in range(0, m):\n",
    "        temp = 0\n",
    "        for k in range(0, l):\n",
    "            temp += A[i][j] * B[j][k]\n",
    "        row.append(temp)\n",
    "    C.append(row)\n",
    "    \n",
    "print(C)"
   ]
  },
  {
   "cell_type": "code",
   "execution_count": 3,
   "id": "bbbebfd0-793a-4be0-8394-01d19e067df2",
   "metadata": {},
   "outputs": [
    {
     "data": {
      "text/plain": [
       "[[-1, 2], [-2, 32]]"
      ]
     },
     "execution_count": 3,
     "metadata": {},
     "output_type": "execute_result"
    }
   ],
   "source": [
    "### 행렬의 곱 함수 생성\n",
    "def product(A, B): # A for n by m / B for m by l\n",
    "    n = len(A)\n",
    "    m = len(A[0])\n",
    "    l = len(B[0])\n",
    "    \n",
    "    C = [] # result\n",
    "    \n",
    "    for i in range(0, n):\n",
    "        row = []\n",
    "        for j in range(0, l):\n",
    "            temp = 0\n",
    "            for k in range(0, m):\n",
    "                temp += A[i][k] * B[k][j]\n",
    "            row.append(temp)\n",
    "        C.append(row)\n",
    "        \n",
    "    return C\n",
    "\n",
    "product([[1,0],[2,4]], [[-1,2],[0,7]])"
   ]
  },
  {
   "cell_type": "markdown",
   "id": "828cdb97-1336-4bb0-b676-c02c51b48924",
   "metadata": {},
   "source": [
    "# 3.4 행렬 넘파이 실습"
   ]
  },
  {
   "cell_type": "code",
   "execution_count": 51,
   "id": "333ba5e9-0756-44c5-a610-7587ae96d66a",
   "metadata": {},
   "outputs": [
    {
     "name": "stdout",
     "output_type": "stream",
     "text": [
      "[[8 5]\n",
      " [5 8]]\n"
     ]
    }
   ],
   "source": [
    "### 행렬의 덧셈\n",
    "import numpy as np\n",
    "#A = np.array[[2,7],[3,2],[5,5]])\n",
    "#B = np.array[[3,0],[3,4],[3,3]]\n",
    "\n",
    "A = np.array([[2,3],[4,5]])\n",
    "B = np.array([[6,2],[1,3]])\n",
    "\n",
    "C = A + B\n",
    "print (C)"
   ]
  },
  {
   "cell_type": "code",
   "execution_count": 53,
   "id": "03d76647-7921-47d3-9d00-e300210e8180",
   "metadata": {},
   "outputs": [
    {
     "name": "stdout",
     "output_type": "stream",
     "text": [
      "[[12  6]\n",
      " [ 4 15]]\n"
     ]
    }
   ],
   "source": [
    "### 행렬의 원소곱\n",
    "A = np.array([[2,3],[4,5]])\n",
    "B = np.array([[6,2],[1,3]])\n",
    "C = np.multiply(A, B)\n",
    "\n",
    "print(C)"
   ]
  },
  {
   "cell_type": "code",
   "execution_count": 54,
   "id": "c99a861c-2cf0-4ccc-b002-ea107998f781",
   "metadata": {},
   "outputs": [
    {
     "name": "stdout",
     "output_type": "stream",
     "text": [
      "[[15 13]\n",
      " [29 23]]\n"
     ]
    }
   ],
   "source": [
    "### 행렬의 곱\n",
    "A = np.array([[2,3],[4,5]])\n",
    "B = np.array([[6,2],[1,3]])\n",
    "C = np.matmul(A, B)\n",
    "\n",
    "print(C)\n"
   ]
  },
  {
   "cell_type": "code",
   "execution_count": null,
   "id": "bf5fe73a-3190-4a92-aae1-ac3f800f41c9",
   "metadata": {},
   "outputs": [],
   "source": []
  }
 ],
 "metadata": {
  "kernelspec": {
   "display_name": "Python 3 (ipykernel)",
   "language": "python",
   "name": "python3"
  },
  "language_info": {
   "codemirror_mode": {
    "name": "ipython",
    "version": 3
   },
   "file_extension": ".py",
   "mimetype": "text/x-python",
   "name": "python",
   "nbconvert_exporter": "python",
   "pygments_lexer": "ipython3",
   "version": "3.9.7"
  }
 },
 "nbformat": 4,
 "nbformat_minor": 5
}
