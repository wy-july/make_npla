{
 "cells": [
  {
   "cell_type": "markdown",
   "id": "6da7e531-b26b-4c8f-b393-7f126ca69c94",
   "metadata": {},
   "source": [
    "# 7.1 역행렬 구하기\n",
    "_역행렬 = 수반 행렬 * (1/행렬식)_ \\\n",
    "_수반 행렬 = 여인수 행렬의 전치 행렬_"
   ]
  },
  {
   "cell_type": "code",
   "execution_count": 8,
   "id": "18fa212b-b2e2-4d40-9ee4-66f59bc5d43e",
   "metadata": {},
   "outputs": [
    {
     "data": {
      "text/plain": [
       "[[0.25, 0.25, 5.0, -3.25],\n",
       " [0.75, -0.25, -0.0, 0.25],\n",
       " [-1.5, 0.5, 3.0, -1.5],\n",
       " [-0.0, -0.0, -2.0, 1.0]]"
      ]
     },
     "execution_count": 8,
     "metadata": {},
     "output_type": "execute_result"
    }
   ],
   "source": [
    "### zero\n",
    "def zero(n, m):\n",
    "    Z = [] # result matrix\n",
    "    for i in range(0, n):\n",
    "        row = []\n",
    "        for j in range(0, m):\n",
    "            row.append(0)\n",
    "        Z.append(row)\n",
    "    return Z\n",
    "\n",
    "### deepcopy 함수\n",
    "def deepcopy(A):\n",
    "    if type(A[0]) == list:\n",
    "        n = len(A)\n",
    "        m = len(A[0])\n",
    "        res = zero(n, m) # result metrix\n",
    "        \n",
    "        for i in range(0, n):\n",
    "            for j in range(0, m):\n",
    "                res[i][j] = A[i][j]\n",
    "        return res\n",
    "    \n",
    "    else:\n",
    "        n = len(A)\n",
    "        res = [] # result vector\n",
    "        for i in range(0, n):\n",
    "            res.append(A[i])\n",
    "        return res\n",
    "\n",
    "    \n",
    "### transpose\n",
    "def tp(A):\n",
    "    n = len(A)\n",
    "    m = len(A[0])\n",
    "    At = [] # result matrix\n",
    "    for i in range(0, m):\n",
    "        row = []\n",
    "        for j in range(0, n):\n",
    "            temp = A[j][i]\n",
    "            row.append(temp)\n",
    "        At.append(row)\n",
    "    return At\n",
    "    \n",
    "### 스칼라곱\n",
    "def s_mul(c, A):\n",
    "    n = len(A)\n",
    "    m = len(A[0])\n",
    "    B = [] # result matrix\n",
    "    for i in range(0, n):\n",
    "        row = []\n",
    "        for j in range(0, m):\n",
    "            temp = c * A[i][j]\n",
    "            row.append(temp)\n",
    "        B.append(row)\n",
    "    return B\n",
    "\n",
    "### 행렬식(재귀)\n",
    "def detr(A):\n",
    "    n = len(A)\n",
    "    det = 0 # result det.\n",
    "   \n",
    "    if n==2:\n",
    "        res = A[0][0] * A[1][1] - A[1][0] * A[0][1]\n",
    "        return res\n",
    "    \n",
    "    for i in range(0, n):\n",
    "        X = deepcopy(A) # temporary matrix\n",
    "        X = X[1:] # X의 0행을 제외한 나머지 행렬을 추출 (0행을 기준으로 행렬식을 구할 것이기 때문)\n",
    "        nx = len(X) # 0행을 제외한 나머지 행렬에 대한 행의 크기\n",
    "                \n",
    "        for j in range(0, nx):\n",
    "            X[j] = X[j][0:i] + X[j][i+1:]\n",
    "        \n",
    "        sign = (-1) ** (i % 2) # 여인수를 구하기 위한 부호 결정\n",
    "        sub_det = detr(X) # 소행렬식\n",
    "        det += sign * A[0][i] * sub_det\n",
    "        \n",
    "    return det\n",
    "\n",
    "### 여인수 행렬 생성 함수\n",
    "def cof(A):\n",
    "    n = len(A)\n",
    "    C = [] # result matrix\n",
    "    for i in range(0, n): # 행에 대한 반복문\n",
    "        row_C = [] # 여인수 행렬에 추가할 행을 생성\n",
    "        idx_row = list(range(0, n)) # 여인수 행렬을 구하려면 특정 행과 열을 제외한 부분 행렬을 구해야 됨\n",
    "                                  # 이를 위해 행렬의 행 인덱스 리스트를 idx_row 이라고 저장\n",
    "        idx_row.remove(i) # i번째 행을 제외하기 위해 idx_row에서 i를 제외\n",
    "        for j in range(0, n): # 열에 대한 반복문\n",
    "            idx_column = list(range(0, n))\n",
    "            idx_column.remove(j)\n",
    "            M = [] # 소행렬\n",
    "            for k in idx_row: # idx_row와 idx_column에 대한 반복문\n",
    "                row_M = [] # 소행렬 M에 추가할 행을 생성\n",
    "                for l in idx_column:\n",
    "                    temp = A[k][l]\n",
    "                    row_M.append(temp)\n",
    "                M.append(row_M)\n",
    "            Mij = detr(M)\n",
    "            Cij = ((-1)**(i+j))*Mij\n",
    "            row_C.append(Cij)\n",
    "        C.append(row_C)\n",
    "    \n",
    "    return C\n",
    "        \n",
    "### 역행렬 생성 함수\n",
    "def inv(A):\n",
    "    B = [] # result matrix\n",
    "    adj = tp(cof(A)) # 수반 행렬 생성\n",
    "    B = s_mul((1/detr(A)), adj)\n",
    "          \n",
    "    return B\n",
    "    \n",
    "A = [[1,3,1,4],[3,9,5,15],[0,2,1,1],[0,4,2,3]]\n",
    "inv(A)"
   ]
  },
  {
   "cell_type": "markdown",
   "id": "f4cf3161-1d67-412d-95f3-13dc1ba94254",
   "metadata": {},
   "source": [
    "# 7.2 역행렬 넘파이 실습"
   ]
  },
  {
   "cell_type": "code",
   "execution_count": 10,
   "id": "a070b20e-d0d3-4a9f-a3d7-0c7f82b633e9",
   "metadata": {},
   "outputs": [
    {
     "name": "stdout",
     "output_type": "stream",
     "text": [
      "[[ 0.25  0.25  5.   -3.25]\n",
      " [ 0.75 -0.25  0.    0.25]\n",
      " [-1.5   0.5   3.   -1.5 ]\n",
      " [-0.   -0.   -2.    1.  ]]\n"
     ]
    }
   ],
   "source": [
    "### 역행렬 구하기\n",
    "import numpy as np\n",
    "A = [[1,3,1,4],[3,9,5,15],[0,2,1,1],[0,4,2,3]]\n",
    "\n",
    "print(np.linalg.inv(A))"
   ]
  },
  {
   "cell_type": "code",
   "execution_count": null,
   "id": "40a25293-4ee1-48cd-926f-b720d972504d",
   "metadata": {},
   "outputs": [],
   "source": []
  }
 ],
 "metadata": {
  "kernelspec": {
   "display_name": "Python 3 (ipykernel)",
   "language": "python",
   "name": "python3"
  },
  "language_info": {
   "codemirror_mode": {
    "name": "ipython",
    "version": 3
   },
   "file_extension": ".py",
   "mimetype": "text/x-python",
   "name": "python",
   "nbconvert_exporter": "python",
   "pygments_lexer": "ipython3",
   "version": "3.9.7"
  }
 },
 "nbformat": 4,
 "nbformat_minor": 5
}
