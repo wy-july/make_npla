{
 "cells": [
  {
   "cell_type": "markdown",
   "id": "322c8c4d-b059-417d-aa42-b76c0b698665",
   "metadata": {},
   "source": [
    "# 4.1 전치 행렬 파이썬 실습"
   ]
  },
  {
   "cell_type": "code",
   "execution_count": 3,
   "id": "5aa0b246-42ff-471a-9090-d87fa6d9cfa8",
   "metadata": {},
   "outputs": [
    {
     "name": "stdout",
     "output_type": "stream",
     "text": [
      "[[1, 3, 5], [2, 4, 6]]\n"
     ]
    }
   ],
   "source": [
    "### 전치 행렬\n",
    "A = [[1,2],[3,4],[5,6]] # for n by m matrix\n",
    "\n",
    "n = len(A)\n",
    "m = len(A[0])\n",
    "At = [] # result\n",
    "\n",
    "for i in range(0, m):\n",
    "    row = []\n",
    "    for j in range(0, n):\n",
    "        temp = A[j][i]\n",
    "        row.append(temp)\n",
    "    At.append(row)\n",
    "    \n",
    "print(At)"
   ]
  },
  {
   "cell_type": "code",
   "execution_count": 5,
   "id": "2c5cefae-9f76-4e9a-a225-3201f7d7210d",
   "metadata": {},
   "outputs": [
    {
     "data": {
      "text/plain": [
       "[[1, 4], [2, 5], [3, 6]]"
      ]
     },
     "execution_count": 5,
     "metadata": {},
     "output_type": "execute_result"
    }
   ],
   "source": [
    "### 전치 행렬 생성 함수\n",
    "def tp(A):\n",
    "    n = len(A)\n",
    "    m = len(A[0])\n",
    "    At = [] # result\n",
    "    \n",
    "    for i in range(0, m):\n",
    "        row = []\n",
    "        for j in range(0, n):\n",
    "            temp = A[j][i]\n",
    "            row.append(temp)\n",
    "        At.append(row)    \n",
    "    \n",
    "    return At\n",
    "\n",
    "tp([[1,2,3],[4,5,6]])"
   ]
  },
  {
   "cell_type": "markdown",
   "id": "6e0668c2-a74e-4464-844a-52c15194e4b0",
   "metadata": {},
   "source": [
    "# 4.2 전치 행렬 넘파이 실습"
   ]
  },
  {
   "cell_type": "code",
   "execution_count": 8,
   "id": "b60310bb-b67b-4b5d-91c9-d74bd9a0355d",
   "metadata": {},
   "outputs": [
    {
     "name": "stdout",
     "output_type": "stream",
     "text": [
      "[[1 4]\n",
      " [2 5]\n",
      " [3 6]]\n"
     ]
    }
   ],
   "source": [
    "### 전치 행렬\n",
    "import numpy as np\n",
    "\n",
    "A = np.array([[1,2,3],[4,5,6]])\n",
    "At = np.transpose(A)\n",
    "\n",
    "print(At)"
   ]
  },
  {
   "cell_type": "markdown",
   "id": "a9489264-0bd0-4393-aac2-5d985bc1a98d",
   "metadata": {},
   "source": [
    "# 4.3 대각 행렬 파이썬 실습"
   ]
  },
  {
   "cell_type": "code",
   "execution_count": 9,
   "id": "af177741-7fbc-4ab9-8879-dcc23e2d98bf",
   "metadata": {},
   "outputs": [
    {
     "name": "stdout",
     "output_type": "stream",
     "text": [
      "[[1, 0, 0], [0, 5, 0], [0, 0, 9]]\n"
     ]
    }
   ],
   "source": [
    "### 대각 행렬\n",
    "A = [[1,2,3],[4,5,6],[7,8,9]]\n",
    "\n",
    "n = len(A)\n",
    "D = [] # result\n",
    "\n",
    "for i in range(0, n):\n",
    "    row = []\n",
    "    for j in range(0, n):\n",
    "        if i==j:\n",
    "            row.append(A[i][j])\n",
    "        else:\n",
    "            row.append(0)\n",
    "    D.append(row)\n",
    "\n",
    "print(D)"
   ]
  },
  {
   "cell_type": "code",
   "execution_count": 12,
   "id": "b68d4513-60cc-412c-8540-83e2c848e884",
   "metadata": {},
   "outputs": [
    {
     "data": {
      "text/plain": [
       "[[1, 0, 0], [0, 5, 0], [0, 0, 9]]"
      ]
     },
     "execution_count": 12,
     "metadata": {},
     "output_type": "execute_result"
    }
   ],
   "source": [
    "### 대각 행렬 생성 함수\n",
    "def diag(A):\n",
    "    \"\"\"대각 행렬 생성 함수\"\"\"\n",
    "    n = len(A) # for n by n matrix\n",
    "    D = [] # result matrix\n",
    "    \n",
    "    for i in range(0, n):\n",
    "        row = []\n",
    "        for j in range(0, n):\n",
    "            if i==j:\n",
    "                row.append(A[i][j])\n",
    "            else:\n",
    "                row.append(0)\n",
    "        D.append(row)        \n",
    "        \n",
    "    return D\n",
    "\n",
    "diag([[1,2,3],[4,5,6],[7,8,9]])"
   ]
  },
  {
   "cell_type": "code",
   "execution_count": 13,
   "id": "0a0ba0b8-e6ac-4509-802e-07739121eb7a",
   "metadata": {},
   "outputs": [
    {
     "name": "stdout",
     "output_type": "stream",
     "text": [
      "[1, 5, 9]\n"
     ]
    }
   ],
   "source": [
    "### 대각 원소 추출\n",
    "A = [[1,2,3],[4,5,6],[7,8,9]]\n",
    "\n",
    "n = len(A)\n",
    "ele = []\n",
    "for i in range(0, n):\n",
    "    ele.append(A[i][i])\n",
    "\n",
    "print(ele)"
   ]
  },
  {
   "cell_type": "code",
   "execution_count": 14,
   "id": "874ee77c-93d4-490e-b795-d8f41ad1a923",
   "metadata": {},
   "outputs": [
    {
     "data": {
      "text/plain": [
       "[1, 5, 9]"
      ]
     },
     "execution_count": 14,
     "metadata": {},
     "output_type": "execute_result"
    }
   ],
   "source": [
    "### 대각 원소 추출 함수\n",
    "def diag_ele(A):\n",
    "    \"\"\"대각 원소 추출 함수\"\"\"\n",
    "    n = len(A)\n",
    "    ele = []\n",
    "    for i in range(0, n):\n",
    "        ele.append(A[i][i])\n",
    "        \n",
    "    return(ele)\n",
    "\n",
    "diag_ele([[1,2,3],[4,5,6],[7,8,9]])"
   ]
  },
  {
   "cell_type": "code",
   "execution_count": 15,
   "id": "5a0bf522-0a12-4954-b032-345b7dfeddc0",
   "metadata": {},
   "outputs": [
    {
     "name": "stdout",
     "output_type": "stream",
     "text": [
      "[[1, 0, 0], [0, 9, 0], [0, 0, 5]]\n"
     ]
    }
   ],
   "source": [
    "### 대각 원소를 대각 행렬로 변환\n",
    "ele = [1, 9, 5]\n",
    "\n",
    "n = len(ele)\n",
    "D = [] # return matrix\n",
    "\n",
    "for i in range(0, n):\n",
    "    row = []\n",
    "    for j in range(0, n):\n",
    "        if i==j:\n",
    "            row.append(ele[i])\n",
    "        else:\n",
    "            row.append(0)\n",
    "    D.append(row)\n",
    "    \n",
    "print(D)"
   ]
  },
  {
   "cell_type": "code",
   "execution_count": 17,
   "id": "fe4978df-df9c-455e-907d-332b711fce79",
   "metadata": {},
   "outputs": [
    {
     "data": {
      "text/plain": [
       "[[1, 0, 0], [0, 2, 0], [0, 0, 3]]"
      ]
     },
     "execution_count": 17,
     "metadata": {},
     "output_type": "execute_result"
    }
   ],
   "source": [
    "### 대각 원소를 대각 행렬로 변환하는 함수\n",
    "def ele_diag(ele):\n",
    "    n = len(ele)\n",
    "    D = [] # return matrix\n",
    "    \n",
    "    for i in range(0,n):\n",
    "        row = []\n",
    "        for j in range(0, n):\n",
    "            if i==j:\n",
    "                row.append(ele[i])\n",
    "            else:\n",
    "                row.append(0)\n",
    "        D.append(row)\n",
    "    return D\n",
    "\n",
    "ele_diag([1,2,3])"
   ]
  },
  {
   "cell_type": "markdown",
   "id": "f50fc8cf-971b-4af8-a3d5-9a9e0eeafff0",
   "metadata": {},
   "source": [
    "# 4.4 대각 행렬 넘파이 실습"
   ]
  },
  {
   "cell_type": "code",
   "execution_count": 21,
   "id": "51ce48ea-c9ee-4851-ba01-8fb80cb9111c",
   "metadata": {},
   "outputs": [
    {
     "name": "stdout",
     "output_type": "stream",
     "text": [
      "[1 5 9]\n",
      "[[1 0 0]\n",
      " [0 5 0]\n",
      " [0 0 9]]\n"
     ]
    }
   ],
   "source": [
    "### 대각 원소 추출\n",
    "### 대각화 행렬\n",
    "A = np.array([[1,2,3],[4,5,6],[7,8,9]])\n",
    "ele = np.diag(A)\n",
    "\n",
    "print(ele)\n",
    "D = np.diag(ele)\n",
    "print(D)"
   ]
  },
  {
   "cell_type": "markdown",
   "id": "ce5f2b90-82f8-436b-a439-099e9a9d8af2",
   "metadata": {},
   "source": [
    "# 4.5 단위 행렬 파이썬 실습"
   ]
  },
  {
   "cell_type": "code",
   "execution_count": 22,
   "id": "1d25a4b5-1fec-4586-ac89-3400ed441628",
   "metadata": {},
   "outputs": [
    {
     "name": "stdout",
     "output_type": "stream",
     "text": [
      "[[1, 0, 0, 0, 0], [0, 1, 0, 0, 0], [0, 0, 1, 0, 0], [0, 0, 0, 1, 0], [0, 0, 0, 0, 1]]\n"
     ]
    }
   ],
   "source": [
    "### 단위 행렬\n",
    "n = 5\n",
    "\n",
    "I = [] # result matrix\n",
    "\n",
    "for i in range(0, n):\n",
    "    row = []\n",
    "    for j in range(0, n):\n",
    "        if i==j:\n",
    "            row.append(1)\n",
    "        else:\n",
    "            row.append(0)\n",
    "    I.append(row)\n",
    "    \n",
    "print(I)"
   ]
  },
  {
   "cell_type": "code",
   "execution_count": 23,
   "id": "d6c1f492-c1da-4576-a6d0-8dc6c96c4d4c",
   "metadata": {},
   "outputs": [
    {
     "data": {
      "text/plain": [
       "[[1, 0, 0, 0, 0, 0, 0],\n",
       " [0, 1, 0, 0, 0, 0, 0],\n",
       " [0, 0, 1, 0, 0, 0, 0],\n",
       " [0, 0, 0, 1, 0, 0, 0],\n",
       " [0, 0, 0, 0, 1, 0, 0],\n",
       " [0, 0, 0, 0, 0, 1, 0],\n",
       " [0, 0, 0, 0, 0, 0, 1]]"
      ]
     },
     "execution_count": 23,
     "metadata": {},
     "output_type": "execute_result"
    }
   ],
   "source": [
    "### 단위 행렬 생성 함수\n",
    "def iden(n):\n",
    "    \"\"\"n by n의 단위 행렬 생성 함수\"\"\"\n",
    "    I = [] # result matrix\n",
    "    \n",
    "    for i in range(0, n):\n",
    "        row = []\n",
    "        for j in range(0, n):\n",
    "            if i==j:\n",
    "                row.append(1)\n",
    "            else:\n",
    "                row.append(0)\n",
    "        I.append(row)\n",
    "    return I\n",
    "\n",
    "iden(7)"
   ]
  },
  {
   "cell_type": "markdown",
   "id": "e666b549-3b39-4c06-a813-8e2abd0f5e75",
   "metadata": {},
   "source": [
    "# 4.6 단위 행렬 넘파이 실습"
   ]
  },
  {
   "cell_type": "code",
   "execution_count": 24,
   "id": "7ff9a9ec-e429-4e0f-bd20-043f44956e40",
   "metadata": {},
   "outputs": [
    {
     "name": "stdout",
     "output_type": "stream",
     "text": [
      "[[1. 0. 0. 0. 0. 0.]\n",
      " [0. 1. 0. 0. 0. 0.]\n",
      " [0. 0. 1. 0. 0. 0.]\n",
      " [0. 0. 0. 1. 0. 0.]\n",
      " [0. 0. 0. 0. 1. 0.]\n",
      " [0. 0. 0. 0. 0. 1.]]\n"
     ]
    }
   ],
   "source": [
    "I = np.identity(6)\n",
    "print(I)"
   ]
  },
  {
   "cell_type": "markdown",
   "id": "7e348215-2b97-4a67-82b1-b40752c94df8",
   "metadata": {},
   "source": [
    "# 4.7 영행렬 파이썬 실습"
   ]
  },
  {
   "cell_type": "code",
   "execution_count": 25,
   "id": "592ff335-c14d-4c14-b60a-05b9f15b46d2",
   "metadata": {},
   "outputs": [
    {
     "name": "stdout",
     "output_type": "stream",
     "text": [
      "[[0, 0, 0, 0], [0, 0, 0, 0], [0, 0, 0, 0], [0, 0, 0, 0]]\n"
     ]
    }
   ],
   "source": [
    "### 영행렬\n",
    "n = 4\n",
    "Z = [] # result matrix\n",
    "\n",
    "for i in range(0, n):\n",
    "    row = []\n",
    "    for j in range(0, n):\n",
    "        row.append(0)\n",
    "    Z.append(row)\n",
    "    \n",
    "print(Z)"
   ]
  },
  {
   "cell_type": "code",
   "execution_count": 27,
   "id": "5c7a0335-59d8-43dc-9704-0ef3704f05ab",
   "metadata": {},
   "outputs": [
    {
     "data": {
      "text/plain": [
       "[[0, 0, 0], [0, 0, 0], [0, 0, 0]]"
      ]
     },
     "execution_count": 27,
     "metadata": {},
     "output_type": "execute_result"
    }
   ],
   "source": [
    "### 영행렬 생성 함수\n",
    "def zero(n):\n",
    "    \"\"\"n by n 영행렬 생성 함수\"\"\"\n",
    "    Z = [] # result matrix\n",
    "    \n",
    "    for i in range(0, n):\n",
    "        row = []\n",
    "        for j in range(0, n):\n",
    "            row.append(0)\n",
    "        Z.append(row)\n",
    "    return Z\n",
    "\n",
    "zero(3)\n",
    "            "
   ]
  },
  {
   "cell_type": "markdown",
   "id": "3cf83966-8cd0-478f-b023-526832d17e74",
   "metadata": {},
   "source": [
    "# 4.8 영행렬 넘파이 실습"
   ]
  },
  {
   "cell_type": "code",
   "execution_count": 28,
   "id": "330280ee-3b41-4c41-a40c-1b5a571eb8b8",
   "metadata": {},
   "outputs": [
    {
     "name": "stdout",
     "output_type": "stream",
     "text": [
      "[[0. 0.]\n",
      " [0. 0.]\n",
      " [0. 0.]]\n"
     ]
    }
   ],
   "source": [
    "Z = np.zeros((3,2))\n",
    "print(Z)"
   ]
  },
  {
   "cell_type": "markdown",
   "id": "d9ad63f6-5c0d-4253-922c-654188d29019",
   "metadata": {},
   "source": [
    "# 4.9 삼각 행렬 파이썬 실습"
   ]
  },
  {
   "cell_type": "code",
   "execution_count": 30,
   "id": "2f82f086-3dff-42e4-82ed-12697816e5b0",
   "metadata": {},
   "outputs": [
    {
     "name": "stdout",
     "output_type": "stream",
     "text": [
      "[[1, 2, 3], [0, 5, 6], [0, 0, 9], [0, 0, 0]]\n"
     ]
    }
   ],
   "source": [
    "### 상삼각행렬(utm)\n",
    "\n",
    "A = [[1,2,3],[4,5,6],[7,8,9],[10,11,12]]\n",
    "\n",
    "n = len(A)\n",
    "m = len(A[0])\n",
    "utm = [] # result matrix\n",
    "\n",
    "for i in range(0, n):\n",
    "    row = []\n",
    "    for j in range(0, m):\n",
    "        if i>j:\n",
    "            row.append(0)\n",
    "        else:\n",
    "            row.append(A[i][j])\n",
    "    utm.append(row)\n",
    "    \n",
    "print(utm)"
   ]
  },
  {
   "cell_type": "code",
   "execution_count": 31,
   "id": "f5be41f1-8c34-4742-9fba-74f0b6d33175",
   "metadata": {},
   "outputs": [
    {
     "data": {
      "text/plain": [
       "[[1, 2, 3], [0, 5, 6], [0, 0, 9]]"
      ]
     },
     "execution_count": 31,
     "metadata": {},
     "output_type": "execute_result"
    }
   ],
   "source": [
    "### 상삼각행렬 생성 함수\n",
    "\n",
    "def utm(A):\n",
    "    \"\"\"상삼각행렬 생성 함수\"\"\"\n",
    "\n",
    "    n = len(A)\n",
    "    m = len(A[0])\n",
    "    ut = [] # result matrix\n",
    "    for i in range (0, n):\n",
    "        row = []\n",
    "        for j in range(0, m):\n",
    "            if i > j:\n",
    "                row.append(0)\n",
    "            else:\n",
    "                row.append(A[i][j])\n",
    "        ut.append(row)\n",
    "    return ut\n",
    "\n",
    "utm([[1,2,3],[4,5,6],[7,8,9]])\n",
    "        \n",
    "\n"
   ]
  },
  {
   "cell_type": "code",
   "execution_count": 33,
   "id": "f3e102c3-35ba-4b1b-8237-1704264e49e1",
   "metadata": {},
   "outputs": [
    {
     "name": "stdout",
     "output_type": "stream",
     "text": [
      "[[0, 0, 0], [4, 0, 0], [7, 8, 0]]\n"
     ]
    }
   ],
   "source": [
    "### 하상각행렬(ltm)\n",
    "A = [[1,2,3],[4,5,6],[7,8,9]]\n",
    "\n",
    "n = len(A)\n",
    "m = len(A[0])\n",
    "ltm = [] # result matrix\n",
    "\n",
    "for i in range(0, n):\n",
    "    row = []\n",
    "    for j in range(0, m):\n",
    "        if i > j:\n",
    "            row.append(A[i][j])\n",
    "        else:\n",
    "            row.append(0)\n",
    "    ltm.append(row)\n",
    "    \n",
    "print(ltm)"
   ]
  },
  {
   "cell_type": "code",
   "execution_count": 34,
   "id": "4599f265-2ef8-4a52-8202-c8f3fd4a8254",
   "metadata": {},
   "outputs": [
    {
     "data": {
      "text/plain": [
       "[[0, 0, 0], [4, 0, 0], [7, 8, 0]]"
      ]
     },
     "execution_count": 34,
     "metadata": {},
     "output_type": "execute_result"
    }
   ],
   "source": [
    "### 하상각행렬 생성 함수\n",
    "\n",
    "def ltm(A):\n",
    "    n = len(A)\n",
    "    m = len(A[0])\n",
    "    lt = [] # result matrix\n",
    "    \n",
    "    for i in range(0, n):\n",
    "        row = []\n",
    "        for j in range(0, m):\n",
    "            if i > j:\n",
    "                row.append(A[i][j])\n",
    "            else:\n",
    "                row.append(0)\n",
    "        lt.append(row)\n",
    "        \n",
    "    return lt\n",
    "\n",
    "ltm([[1,2,3],[4,5,6],[7,8,9]])"
   ]
  },
  {
   "cell_type": "markdown",
   "id": "defb933f-f91b-4b58-b27e-e1dc9a8e1bd6",
   "metadata": {},
   "source": [
    "# 4.10 삼각행렬 넘파이 실습"
   ]
  },
  {
   "cell_type": "code",
   "execution_count": 38,
   "id": "78d71dce-34eb-49bd-9181-b3154791952b",
   "metadata": {},
   "outputs": [
    {
     "name": "stdout",
     "output_type": "stream",
     "text": [
      "[[1 2 3]\n",
      " [0 5 6]\n",
      " [0 0 9]]\n"
     ]
    }
   ],
   "source": [
    "### 상삼각행렬\n",
    "A = np.array([[1,2,3],[4,5,6],[7,8,9]])\n",
    "Au = np.triu(A)\n",
    "\n",
    "print(Au)"
   ]
  },
  {
   "cell_type": "code",
   "execution_count": 39,
   "id": "284a02b0-7559-49b1-8278-d0255680c11b",
   "metadata": {},
   "outputs": [
    {
     "name": "stdout",
     "output_type": "stream",
     "text": [
      "[[1 0 0]\n",
      " [4 5 0]\n",
      " [7 8 9]]\n"
     ]
    }
   ],
   "source": [
    "### 하삼각행렬\n",
    "A = np.array([[1,2,3],[4,5,6],[7,8,9]])\n",
    "Al = np.tril(A)\n",
    "\n",
    "print(Al)"
   ]
  },
  {
   "cell_type": "markdown",
   "id": "6efffcf8-3e6f-4804-9a78-d270ca3febe6",
   "metadata": {},
   "source": [
    "# 4.11 토플리츠 행렬 넘파이 실습"
   ]
  },
  {
   "cell_type": "code",
   "execution_count": 42,
   "id": "e9dac8ba-3087-426c-a828-dd5b2835dbc1",
   "metadata": {},
   "outputs": [
    {
     "name": "stdout",
     "output_type": "stream",
     "text": [
      "[[1, 9, 7, 5, 3], [0, 1, 9, 7, 5], [-2, 0, 1, 9, 7], [-4, -2, 0, 1, 9]]\n"
     ]
    }
   ],
   "source": [
    "### 토플리츠 행렬\n",
    "a = [1, 0, -2, -4]\n",
    "b = [1, 3, 5, 7, 9]\n",
    "\n",
    "n1 = len(a)\n",
    "n2 = len(b)\n",
    "A = [] # result matrix\n",
    "\n",
    "for i in range(0, n1):\n",
    "    row = []\n",
    "    for j in range(0, n2):\n",
    "        if i > j:\n",
    "            row.append(a[i-j])\n",
    "        else:\n",
    "            row.append(b[i-j])\n",
    "    A.append(row)\n",
    "    \n",
    "print(A)\n"
   ]
  },
  {
   "cell_type": "code",
   "execution_count": 43,
   "id": "ebdf69a7-f69b-4561-969c-c16b7611841b",
   "metadata": {},
   "outputs": [
    {
     "data": {
      "text/plain": [
       "[[1, 9, 7, 5, 3], [0, 1, 9, 7, 5], [-2, 0, 1, 9, 7], [4, -2, 0, 1, 9]]"
      ]
     },
     "execution_count": 43,
     "metadata": {},
     "output_type": "execute_result"
    }
   ],
   "source": [
    "### 토플리츠 행렬 생성 함수\n",
    "def toep(a, b):\n",
    "    \"\"\"토플리츠 행렬 변환 함수\"\"\"\n",
    "    n1 = len(a)\n",
    "    n2 = len(b)\n",
    "    A = [] # result matrix\n",
    "    \n",
    "    for i in range(0, n1):\n",
    "        row = []\n",
    "        for j in range(0, n2):\n",
    "            if i > j:\n",
    "                row.append(a[i-j])\n",
    "            else:\n",
    "                row.append(b[i-j])\n",
    "        A.append(row)\n",
    "    return A\n",
    "\n",
    "toep([1,0,-2,4],[1,3,5,7,9])\n",
    "    "
   ]
  },
  {
   "cell_type": "markdown",
   "id": "faa23e88-f9ce-4c2d-8a36-4014e8fddf46",
   "metadata": {},
   "source": [
    "# 4.12 토플리츠 행렬 사이파이 실습"
   ]
  },
  {
   "cell_type": "code",
   "execution_count": 48,
   "id": "52f1365c-eb32-4889-b777-50ca448e601e",
   "metadata": {},
   "outputs": [
    {
     "name": "stdout",
     "output_type": "stream",
     "text": [
      "[[ 1  3  5  6  8]\n",
      " [ 0  1  3  5  6]\n",
      " [-2  0  1  3  5]\n",
      " [ 4 -2  0  1  3]]\n"
     ]
    }
   ],
   "source": [
    "### 토플리츠 행렬 생성\n",
    "from scipy.linalg import toeplitz\n",
    "A = toeplitz([1,0,-2,4],[1,3,5,6,8])\n",
    "print(A)"
   ]
  },
  {
   "cell_type": "markdown",
   "id": "b18d46da-1e68-4d50-9205-4467bdd55236",
   "metadata": {},
   "source": [
    "# 4.13 이중 대각 행렬 파이썬 실습"
   ]
  },
  {
   "cell_type": "code",
   "execution_count": 49,
   "id": "3869f80c-5a31-4ac2-8805-2bd8e1775e00",
   "metadata": {},
   "outputs": [
    {
     "name": "stdout",
     "output_type": "stream",
     "text": [
      "[[1, 2, 0, 0], [0, 3, 4, 0], [0, 0, 7, 9], [0, 0, 0, 3]]\n"
     ]
    }
   ],
   "source": [
    "### 상방 이중 대각 행렬(ubdm)\n",
    "A = [[1,2,1,3],[5,3,4,1],[2,1,7,9],[2,8,1,3]]\n",
    "\n",
    "n = len(A)\n",
    "m = len(A[0])\n",
    "ubdm = [] # result matrix\n",
    "\n",
    "for i in range(0, n):\n",
    "    row = []\n",
    "    for j in range(0, m):\n",
    "        if i > j or j-i > 1 :\n",
    "            row.append(0)\n",
    "        else:\n",
    "            row.append(A[i][j])\n",
    "    ubdm.append(row)        \n",
    "    \n",
    "print(ubdm)"
   ]
  },
  {
   "cell_type": "code",
   "execution_count": 51,
   "id": "2f52bb54-0661-4c0d-8d89-eab85697d7dd",
   "metadata": {},
   "outputs": [
    {
     "data": {
      "text/plain": [
       "[[1, 2, 0], [0, 5, 6], [0, 0, 9]]"
      ]
     },
     "execution_count": 51,
     "metadata": {},
     "output_type": "execute_result"
    }
   ],
   "source": [
    "### 상방 이중 대각 행렬 생성 함수\n",
    "def ubdm(A):\n",
    "    n = len(A)\n",
    "    m = len(A[0])\n",
    "    ubd = [] # result matrix\n",
    "    \n",
    "    for i in range(0, n):\n",
    "        row = []\n",
    "        for j in range(0, m):\n",
    "            if i > j or j > i +1:\n",
    "                row.append(0)\n",
    "            else:\n",
    "                row.append(A[i][j])\n",
    "        ubd.append(row)\n",
    "    return ubd\n",
    "\n",
    "ubdm([[1,2,3],[4,5,6],[7,8,9]])"
   ]
  },
  {
   "cell_type": "code",
   "execution_count": 62,
   "id": "772b5442-76a4-4bd1-a54c-e6f617ba4c1e",
   "metadata": {},
   "outputs": [
    {
     "name": "stdout",
     "output_type": "stream",
     "text": [
      "[[1, 0, 0], [4, 5, 0], [0, 8, 9]]\n"
     ]
    }
   ],
   "source": [
    "### 하방 이중 대각 행렬 (lbdm)\n",
    "A = [[1,2,3],[4,5,6],[7,8,9]]\n",
    "\n",
    "n = len(A)\n",
    "m = len(A[0])\n",
    "lbdm = [] # result matrix\n",
    "\n",
    "for i in range(0, n):\n",
    "    row = []\n",
    "    for j in range(0, m):\n",
    "        if i < j or i > j + 1:\n",
    "            row.append(0)\n",
    "        else:\n",
    "            row.append(A[i][j])\n",
    "    lbdm.append(row)\n",
    "    \n",
    "print(lbdm)"
   ]
  },
  {
   "cell_type": "code",
   "execution_count": 64,
   "id": "b61567a8-7ef8-4ff6-8ef8-221268453b10",
   "metadata": {},
   "outputs": [
    {
     "data": {
      "text/plain": [
       "[[1, 0, 0], [4, 5, 0], [0, 8, 9]]"
      ]
     },
     "execution_count": 64,
     "metadata": {},
     "output_type": "execute_result"
    }
   ],
   "source": [
    "### 하방 이중 대각 행렬 생성 함수\n",
    "def lbdm(A):\n",
    "    n = len(A)\n",
    "    m = len(A[0])\n",
    "    lbd = [] # result matrix\n",
    "    \n",
    "    for i in range(0, n):\n",
    "        row = []\n",
    "        for j in range(0, m):\n",
    "            if i < j or i > j+1 : \n",
    "                row.append(0)\n",
    "            else:\n",
    "                row.append(A[i][j])\n",
    "        lbd.append(row)\n",
    "        \n",
    "    return lbd\n",
    "\n",
    "lbdm([[1,2,3],[4,5,6],[7,8,9]])"
   ]
  },
  {
   "cell_type": "markdown",
   "id": "ae631bbd-993a-498c-81fa-d2b52b2db121",
   "metadata": {},
   "source": [
    "# 4.14 이중대각행렬 넘파이 실습"
   ]
  },
  {
   "cell_type": "code",
   "execution_count": 72,
   "id": "6d686867-4342-42f7-87d9-0d6daa0cfe06",
   "metadata": {},
   "outputs": [
    {
     "name": "stdout",
     "output_type": "stream",
     "text": [
      "[[1 2 0]\n",
      " [0 5 6]\n",
      " [0 0 9]]\n"
     ]
    }
   ],
   "source": [
    "### ubdm\n",
    "A = np.array([[1,2,3],[4,5,6],[7,8,9]])\n",
    "diag_ele = np.diag(A) # 대각성분 추출\n",
    "udiag_ele = np.diag(A, k=1) # k=1 성분 추출\n",
    "\n",
    "ubdm = np.diag(diag_ele) + np.diag(udiag_ele, k=1)\n",
    "print(ubdm)"
   ]
  },
  {
   "cell_type": "code",
   "execution_count": 75,
   "id": "2a323a88-c99d-4410-80fc-31fa37f8a876",
   "metadata": {},
   "outputs": [
    {
     "name": "stdout",
     "output_type": "stream",
     "text": [
      "[[1 0 0]\n",
      " [4 5 0]\n",
      " [0 8 9]]\n"
     ]
    }
   ],
   "source": [
    "### lbmd\n",
    "A = np.array([[1,2,3],[4,5,6],[7,8,9]])\n",
    "diag_ele = np.diag(A)\n",
    "ldiag_ele = np.diag(A, k=-1)\n",
    "\n",
    "lbdm = np.diag(diag_ele) + np.diag(ldiag_ele, k=-1)\n",
    "print(lbdm)"
   ]
  },
  {
   "cell_type": "markdown",
   "id": "99bab4f2-1cde-4125-912a-34b947cb1298",
   "metadata": {
    "tags": []
   },
   "source": [
    "# 4.15 하우스홀더 행렬 파이썬 실습\n",
    "\n",
    "_H = I - 2(dp/cp)_"
   ]
  },
  {
   "cell_type": "code",
   "execution_count": 124,
   "id": "4b2568ef-053c-42b5-9a78-ee082714ebb8",
   "metadata": {},
   "outputs": [
    {
     "data": {
      "text/plain": [
       "[[0.8571428571428572, 0.0, -0.2857142857142857, -0.42857142857142855],\n",
       " [0.0, 1.0, 0.0, 0.0],\n",
       " [-0.2857142857142857, 0.0, 0.4285714285714286, -0.8571428571428571],\n",
       " [-0.42857142857142855, 0.0, -0.8571428571428571, -0.2857142857142856]]"
      ]
     },
     "execution_count": 124,
     "metadata": {},
     "output_type": "execute_result"
    }
   ],
   "source": [
    "v = [1, 0, 2, 3]\n",
    "N = len(v)\n",
    "\n",
    "### dp 함수 생성\n",
    "def dp(a, b):\n",
    "    \"\"\"vector dot product\"\"\"\n",
    "    n = len(a)\n",
    "    d = 0 # result from dp\n",
    "    for i in range(0, n):\n",
    "        d += a[i]*b[i]\n",
    "    return d\n",
    "\n",
    "### cp 함수 생성\n",
    "def cp(a, b):\n",
    "    \"\"\"vector outer product\"\"\"\n",
    "    n = len(a)\n",
    "    c = [] # result from cp\n",
    "    for i in range(0, n):\n",
    "        row = []\n",
    "        for j in range(0, n):\n",
    "            temp = a[i]*b[j]\n",
    "            row.append(temp)                \n",
    "        c.append(row)\n",
    "    return c\n",
    "        \n",
    "### 단위 행렬 생성\n",
    "I = []\n",
    "for i in range(0, N):\n",
    "    row = []\n",
    "    for j in range(0, N):\n",
    "        if i==j:\n",
    "            row.append(1)\n",
    "        else:\n",
    "            row.append(0)\n",
    "    I.append(row)\n",
    "\n",
    "### 행렬의 뺄셈 정의\n",
    "def sub(A, B):\n",
    "    \"\"\"vector substraction\"\"\"\n",
    "    n = len(A)\n",
    "    m = len(A[0])\n",
    "    C = [] # result from sub\n",
    "    for i in range(0, n):\n",
    "        row = []\n",
    "        for j in range(0, m):\n",
    "            temp = A[i][j] - B[i][j]\n",
    "            row.append(temp)\n",
    "        C.append(row)\n",
    "    return C\n",
    "\n",
    "### 행렬의 스칼라곱정의\n",
    "def times(A, b):\n",
    "    n = len(A)\n",
    "    C = [] # result\n",
    "    for i in range(0, n):\n",
    "        row = []\n",
    "        for j in range(0, n):\n",
    "            temp = A[i][j] * b\n",
    "            row.append(temp)\n",
    "        C.append(row)\n",
    "    return C\n",
    "\n",
    "### householder 계산\n",
    "V = times(cp(v,v),2*(1/dp(v,v)))\n",
    "sub(I,V)   \n"
   ]
  },
  {
   "cell_type": "markdown",
   "id": "4f61551e-b2e2-4e29-b5c3-6d7a673d0248",
   "metadata": {},
   "source": [
    "# 4.16 하우스홀더 행렬 넘파이 실습"
   ]
  },
  {
   "cell_type": "code",
   "execution_count": 127,
   "id": "c8a699ae-358d-42dd-9d25-224255a6f28e",
   "metadata": {},
   "outputs": [
    {
     "data": {
      "text/plain": [
       "array([[ 0.85714286,  0.        , -0.28571429, -0.42857143],\n",
       "       [ 0.        ,  1.        ,  0.        ,  0.        ],\n",
       "       [-0.28571429,  0.        ,  0.42857143, -0.85714286],\n",
       "       [-0.42857143,  0.        , -0.85714286, -0.28571429]])"
      ]
     },
     "execution_count": 127,
     "metadata": {},
     "output_type": "execute_result"
    }
   ],
   "source": [
    "def hh(v):\n",
    "    n = len(v)\n",
    "    cp = np.outer(v, v)\n",
    "    dp = np.inner(v, v)\n",
    "    I = np.identity(n)\n",
    "    return I - (2/dp)*cp\n",
    "\n",
    "hh([1,0,2,3])"
   ]
  },
  {
   "cell_type": "code",
   "execution_count": null,
   "id": "322d3a39-93e8-420d-b3f1-1ffa64f4ddf6",
   "metadata": {},
   "outputs": [],
   "source": []
  }
 ],
 "metadata": {
  "kernelspec": {
   "display_name": "Python 3 (ipykernel)",
   "language": "python",
   "name": "python3"
  },
  "language_info": {
   "codemirror_mode": {
    "name": "ipython",
    "version": 3
   },
   "file_extension": ".py",
   "mimetype": "text/x-python",
   "name": "python",
   "nbconvert_exporter": "python",
   "pygments_lexer": "ipython3",
   "version": "3.9.7"
  }
 },
 "nbformat": 4,
 "nbformat_minor": 5
}
