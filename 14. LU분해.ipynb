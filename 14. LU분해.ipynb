{
 "cells": [
  {
   "cell_type": "markdown",
   "id": "adf7cd0e-d612-4386-aadf-ecba65a4804e",
   "metadata": {},
   "source": [
    "# 14.1 LU분해 파이썬 실습"
   ]
  },
  {
   "cell_type": "code",
   "execution_count": 5,
   "id": "cb323546-69f1-4bb7-971d-e6f1f977b46e",
   "metadata": {},
   "outputs": [
    {
     "name": "stdout",
     "output_type": "stream",
     "text": [
      "[[2.0, 0, 0], [0, -2.0, 0], [-1, 4.0, 5.0]]\n",
      "[[1.0, -1.0, -1.0], [-0.0, 1.0, -1.0], [0.0, 0.0, 1.0]]\n"
     ]
    }
   ],
   "source": [
    "def lu_d(A):\n",
    "    n = len(A)\n",
    "    m = len(A[0])\n",
    "    \n",
    "    L = [[0]*m for i in range(0, n)]\n",
    "    U = []\n",
    "    \n",
    "    for i in range(0, n):\n",
    "        a = A[i]\n",
    "        temp = 1 / a[i]\n",
    "        L[i][i] = 1 / temp\n",
    "        a = [element * temp for element in a]\n",
    "        U.append(a)\n",
    "        \n",
    "        for j in range(i+1, n):\n",
    "            row = A[j]\n",
    "            a_temp = [element * -row[i] for element in a]\n",
    "            L[j][i] = row[i]\n",
    "            A[j] = [a_temp[k] + row[k] for k in range(m)]\n",
    "            \n",
    "    return L, U\n",
    "\n",
    "C = [[2,-2,-2],[0,-2,2],[-1,5,2]]\n",
    "L, U = lu_d(C)\n",
    "print(L)\n",
    "print(U)"
   ]
  },
  {
   "cell_type": "markdown",
   "id": "a7fcf262-ceed-4ef7-bf04-33f277f15b7f",
   "metadata": {},
   "source": [
    "# 14.2 LU분해 Scipy 실습"
   ]
  },
  {
   "cell_type": "code",
   "execution_count": 7,
   "id": "f6a54bb0-fd87-41ca-979c-e547f358abf1",
   "metadata": {},
   "outputs": [
    {
     "name": "stdout",
     "output_type": "stream",
     "text": [
      "[[1. 0. 0.]\n",
      " [0. 0. 1.]\n",
      " [0. 1. 0.]]\n",
      "[[ 1.   0.   0. ]\n",
      " [-0.5  1.   0. ]\n",
      " [ 0.  -0.5  1. ]]\n",
      "[[ 2.  -2.  -2. ]\n",
      " [ 0.   4.   1. ]\n",
      " [ 0.   0.   2.5]]\n"
     ]
    }
   ],
   "source": [
    "import numpy as np\n",
    "from scipy.linalg import lu\n",
    "\n",
    "A = np.array([[2,-2,-2],[0,-2,2],[-1,5,2]])\n",
    "P, L, U = lu(A)\n",
    "\n",
    "print(P)\n",
    "print(L)\n",
    "print(U)"
   ]
  },
  {
   "cell_type": "code",
   "execution_count": null,
   "id": "db99f3cd-ce61-40af-9b39-1e5adfab8cc1",
   "metadata": {},
   "outputs": [],
   "source": []
  }
 ],
 "metadata": {
  "kernelspec": {
   "display_name": "Python 3 (ipykernel)",
   "language": "python",
   "name": "python3"
  },
  "language_info": {
   "codemirror_mode": {
    "name": "ipython",
    "version": 3
   },
   "file_extension": ".py",
   "mimetype": "text/x-python",
   "name": "python",
   "nbconvert_exporter": "python",
   "pygments_lexer": "ipython3",
   "version": "3.9.7"
  }
 },
 "nbformat": 4,
 "nbformat_minor": 5
}
