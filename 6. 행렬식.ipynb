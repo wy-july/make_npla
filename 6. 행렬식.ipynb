{
 "cells": [
  {
   "cell_type": "markdown",
   "id": "fc7480de-f4f9-4772-8e06-9db842ed6dc5",
   "metadata": {},
   "source": [
    "# 6.1 행렬식 파이썬 실습 - 3 by 3 행렬의 여인수 전개"
   ]
  },
  {
   "cell_type": "code",
   "execution_count": 2,
   "id": "0b7ffb5b-8831-4b61-96ac-557bfb5af5e5",
   "metadata": {},
   "outputs": [
    {
     "data": {
      "text/plain": [
       "5"
      ]
     },
     "execution_count": 2,
     "metadata": {},
     "output_type": "execute_result"
    }
   ],
   "source": [
    "### 1행을 기준으로 계산하는 함수\n",
    "def detc(A):\n",
    "    n = len(A)\n",
    "    m = len(A[0]) \n",
    "    det = 0 # result det.\n",
    "    \n",
    "    for j in range(0, m):\n",
    "        M = [A[1][:j] + A[1][j+1:], A[2][:j] + A[2][j+1:]] # 소행렬 추출\n",
    "        Mij = M[0][0] * M[1][1] - M[0][1] * M[1][0] # 소행렬식 계산\n",
    "        Cij = ((-1)**(0+j))*Mij # 여인수\n",
    "        det += A[0][j] * Cij # 최종 행렬식\n",
    "    \n",
    "    return(det)\n",
    "\n",
    "detc([[3,2,0],[-1,-3,6],[2,3,-5]])    "
   ]
  },
  {
   "cell_type": "markdown",
   "id": "d9b2dbc3-6e91-4394-bca9-0e7265970621",
   "metadata": {},
   "source": [
    "# 6.2 행렬식 파이썬 실습 - n by n 행렬의 재귀 함수로 구현"
   ]
  },
  {
   "cell_type": "code",
   "execution_count": 1,
   "id": "32fc9f10-ac07-4508-98e0-6783380db133",
   "metadata": {},
   "outputs": [
    {
     "data": {
      "text/plain": [
       "-4"
      ]
     },
     "execution_count": 1,
     "metadata": {},
     "output_type": "execute_result"
    }
   ],
   "source": [
    "### deepcopy를 구현하기 위한 영행렬 생성 함수\n",
    "def zero(n, m):\n",
    "    Z = [] # result matrix\n",
    "    for i in range(0, n):\n",
    "        row = []\n",
    "        for j in range(0, m):\n",
    "            row.append(0)\n",
    "        Z.append(row)\n",
    "    return Z\n",
    "\n",
    "### deepcopy 함수\n",
    "def deepcopy(A):\n",
    "    if type(A[0]) == list:\n",
    "        n = len(A)\n",
    "        m = len(A[0])\n",
    "        res = zero(n, m) # result metrix\n",
    "        \n",
    "        for i in range(0, n):\n",
    "            for j in range(0, m):\n",
    "                res[i][j] = A[i][j]\n",
    "        return res\n",
    "    \n",
    "    else:\n",
    "        n = len(A)\n",
    "        res = [] # result vector\n",
    "        for i in range(0, n):\n",
    "            res.append(A[i])\n",
    "        return res\n",
    "    \n",
    "    \n",
    "### 재귀 함수로 구현한 n by n 행렬의 행렬식 생성 함수\n",
    "def detr(A):\n",
    "    n = len(A)\n",
    "    det = 0 # result det.\n",
    "   \n",
    "    if n==2:\n",
    "        res = A[0][0] * A[1][1] - A[1][0] * A[0][1]\n",
    "        return res\n",
    "    \n",
    "    for i in range(0, n):\n",
    "        X = deepcopy(A) # temporary matrix\n",
    "        X = X[1:] # X의 0행을 제외한 나머지 행렬을 추출 (0행을 기준으로 행렬식을 구할 것이기 때문)\n",
    "        nx = len(X) # 0행을 제외한 나머지 행렬에 대한 행의 크기\n",
    "                \n",
    "        for j in range(0, nx):\n",
    "            X[j] = X[j][0:i] + X[j][i+1:]\n",
    "        \n",
    "        sign = (-1) ** (i % 2) # 여인수를 구하기 위한 부호 결정\n",
    "        sub_det = detr(X) # 소행렬식\n",
    "        det += sign * A[0][i] * sub_det\n",
    "        \n",
    "    return det\n",
    "\n",
    "A = [[1,3,1,4],[3,9,5,15],[0,2,1,1],[0,4,2,3]]\n",
    "#A = [[3,2,0],[-1,-3,6],[2,3,-5]]\n",
    "detr(A)"
   ]
  },
  {
   "cell_type": "markdown",
   "id": "efeaabf9-e13b-4fd3-aad7-e352ef64cbeb",
   "metadata": {},
   "source": [
    "# 6.3 행렬식 파이썬 실습 - 삼각행렬 변환으로 구현"
   ]
  },
  {
   "cell_type": "code",
   "execution_count": 43,
   "id": "c6587702-0d36-420d-b4f5-13364434e3d1",
   "metadata": {},
   "outputs": [
    {
     "data": {
      "text/plain": [
       "5.000000000000001"
      ]
     },
     "execution_count": 43,
     "metadata": {},
     "output_type": "execute_result"
    }
   ],
   "source": [
    "### deepcopy를 구현하기 위한 zero\n",
    "def zero(n, m):\n",
    "    n = len(A)\n",
    "    m = len(A[0])\n",
    "    Z = [] # result matrix\n",
    "    for i in range(0, n):\n",
    "        row = []\n",
    "        for j in range(0, m):\n",
    "            row.append(0)\n",
    "        Z.append(row)\n",
    "    return Z\n",
    "\n",
    "### deepcopy\n",
    "def deepcopy(A):\n",
    "    n = len(A)\n",
    "    m = len(A[0])\n",
    "    res = zero(n, m) # result matrix\n",
    "    for i in range(0, n):\n",
    "        for j in range(0, m):\n",
    "            res[i][j] = A[i][j]\n",
    "    return res        \n",
    "    \n",
    "### 삼각행렬(utm) 변환을 이용한 행렬식 구하기\n",
    "def dett(A):\n",
    "    n = len(A)\n",
    "    X = deepcopy(A) # temporary matrix\n",
    "    n_row_change = 0 # 행 교환 횟수 (행 교환을 한 번 할 때 마다 행렬식의 부호가 변하는 것을 적용하기 위함)\n",
    "    \n",
    "    for i in range(0, n):\n",
    "        if X[i][i] == 0:\n",
    "            temp = X[i+1]    \n",
    "            X[i+1] = X[i]\n",
    "            X[i] = temp\n",
    "            n_row_change += 1 # 행 교환을 수행했으므로 1을 더함\n",
    "            \n",
    "        for j in range(i+1, n):\n",
    "            ratio = X[j][i] / X[i][i]\n",
    "            for k in range(0, n):\n",
    "                X[j][k] = X[j][k] - ratio * X[i][k]\n",
    "                \n",
    "    n_row_change = (-1)**(n_row_change)\n",
    "        \n",
    "    det = 1\n",
    "    for i in range(n):\n",
    "        det *= X[i][i] # 대각 원소를 모두 곱해준다\n",
    "    det *= n_row_change # 행 교환 횟수를 곱해준다\n",
    "    return det\n",
    "\n",
    "A = [[3,2,0],[-1,-3,6],[2,3,-5]]\n",
    "dett(A)"
   ]
  },
  {
   "cell_type": "markdown",
   "id": "b537d735-1f69-4965-9232-960ca6751fb4",
   "metadata": {},
   "source": [
    "# 6.4 행렬식 넘파이 실습"
   ]
  },
  {
   "cell_type": "code",
   "execution_count": 45,
   "id": "4cb42653-ff30-465d-af70-14fda8c5091c",
   "metadata": {},
   "outputs": [
    {
     "name": "stdout",
     "output_type": "stream",
     "text": [
      "8.999999999999998\n"
     ]
    }
   ],
   "source": [
    "import numpy as np\n",
    "\n",
    "A = np.array([[6,3],[5,4]])\n",
    "print(np.linalg.det(A))"
   ]
  },
  {
   "cell_type": "code",
   "execution_count": null,
   "id": "0bb98ddd-fdf6-4a9e-b704-5cf237e7fb83",
   "metadata": {},
   "outputs": [],
   "source": []
  }
 ],
 "metadata": {
  "kernelspec": {
   "display_name": "Python 3 (ipykernel)",
   "language": "python",
   "name": "python3"
  },
  "language_info": {
   "codemirror_mode": {
    "name": "ipython",
    "version": 3
   },
   "file_extension": ".py",
   "mimetype": "text/x-python",
   "name": "python",
   "nbconvert_exporter": "python",
   "pygments_lexer": "ipython3",
   "version": "3.9.7"
  }
 },
 "nbformat": 4,
 "nbformat_minor": 5
}
